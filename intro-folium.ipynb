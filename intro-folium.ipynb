{
 "cells": [
  {
   "cell_type": "markdown",
   "metadata": {},
   "source": [
    "# Folium: introdução\n",
    "\n",
    "Importando as bibliotecas"
   ]
  },
  {
   "cell_type": "code",
   "execution_count": null,
   "metadata": {},
   "outputs": [],
   "source": [
    "import pandas as pd\n",
    "import folium"
   ]
  },
  {
   "cell_type": "markdown",
   "metadata": {},
   "source": [
    "Nosso primeiro mapa"
   ]
  },
  {
   "cell_type": "code",
   "execution_count": null,
   "metadata": {},
   "outputs": [],
   "source": [
    "brasil = folium.Map(\n",
    "    location=[-16.1237611, -59.9219642],\n",
    "    zoom_start=4\n",
    ")\n",
    "\n",
    "# brasil.save('mapas_htmls/brasil_clean.html')\n",
    "brasil"
   ]
  },
  {
   "cell_type": "markdown",
   "metadata": {},
   "source": [
    "## Marcando pontos no mapa"
   ]
  },
  {
   "cell_type": "markdown",
   "metadata": {},
   "source": [
    "Lendo os dados"
   ]
  },
  {
   "cell_type": "code",
   "execution_count": null,
   "metadata": {},
   "outputs": [],
   "source": [
    "empresas = pd.read_csv('empresas.xz')\n",
    "print(empresas.shape)\n",
    "empresas.head(3)"
   ]
  },
  {
   "cell_type": "markdown",
   "metadata": {},
   "source": [
    "Colocando algumas empresas no mapa"
   ]
  },
  {
   "cell_type": "code",
   "execution_count": null,
   "metadata": {},
   "outputs": [],
   "source": [
    "brasil_com_pontos = brasil\n",
    "\n",
    "empresa1 = empresas.iloc[0]\n",
    "folium.Marker(\n",
    "    location=[empresa1['latitude'], empresa1['longitude']],\n",
    ").add_to(brasil_com_pontos)\n",
    "\n",
    "empresa2 = empresas.iloc[1]\n",
    "folium.Marker(\n",
    "    location=[empresa2['latitude'], empresa2['longitude']],\n",
    ").add_to(brasil_com_pontos)\n",
    "\n",
    "# brasil_com_pontos.save('mapas_htmls/brasil_some_companies.html')\n",
    "brasil_com_pontos"
   ]
  },
  {
   "cell_type": "markdown",
   "metadata": {},
   "source": [
    "Colocar todas as empresas do nosso dataset no mapa pode não ser uma boa ideia."
   ]
  },
  {
   "cell_type": "code",
   "execution_count": null,
   "metadata": {},
   "outputs": [],
   "source": [
    "# # Descomentar e rodar esse código pode travar seu computador.\n",
    "# # Faça por sua conta e risco ;P\n",
    "# brasil_com_todas_empresas = brasil\n",
    "\n",
    "# for _, empresa in empresas.iterrows():\n",
    "#     folium.Marker(\n",
    "#         location=[empresa['latitude'], empresa['longitude']],\n",
    "#     ).add_to(brasil_com_todas_empresas)\n",
    "\n",
    "# brasil_com_todas_empresas"
   ]
  },
  {
   "cell_type": "markdown",
   "metadata": {},
   "source": [
    " Então vamos escolher apenas um estado:"
   ]
  },
  {
   "cell_type": "code",
   "execution_count": null,
   "metadata": {},
   "outputs": [],
   "source": [
    "pernambuco = folium.Map(\n",
    "    location=[-8.3833569, -38.5757127],\n",
    "    zoom_start=7\n",
    ")\n",
    "\n",
    "# pernambuco.save('mapas_htmls/pernambuco_clean.html')\n",
    "pernambuco"
   ]
  },
  {
   "cell_type": "code",
   "execution_count": null,
   "metadata": {},
   "outputs": [],
   "source": [
    "empresas_pe = empresas[empresas['state'] == 'PE']\n",
    "empresas.shape, empresas_pe.shape"
   ]
  },
  {
   "cell_type": "code",
   "execution_count": null,
   "metadata": {},
   "outputs": [],
   "source": [
    "pernambuco = folium.Map(\n",
    "    location=[-8.3833569, -38.5757127],\n",
    "    zoom_start=7\n",
    ")\n",
    "\n",
    "for _, empresa in empresas_pe.iterrows():\n",
    "    folium.Marker(\n",
    "        location=[empresa['latitude'], empresa['longitude']],\n",
    "    ).add_to(pernambuco)\n",
    "\n",
    "# pernambuco.save('mapas_htmls/pernambuco_all_companies.html')\n",
    "pernambuco"
   ]
  },
  {
   "cell_type": "markdown",
   "metadata": {},
   "source": [
    "Alguma cidade no litoral pernambucano"
   ]
  },
  {
   "cell_type": "code",
   "execution_count": null,
   "metadata": {},
   "outputs": [],
   "source": [
    "empresas_olinda_pe = empresas[empresas['city'] == 'OLINDA']\n",
    "empresas_olinda_pe.shape"
   ]
  },
  {
   "cell_type": "code",
   "execution_count": null,
   "metadata": {},
   "outputs": [],
   "source": [
    "olinda = folium.Map(\n",
    "    location=[-7.9981267, -34.9082027],\n",
    "    zoom_start=13\n",
    ")\n",
    "# \n",
    "for _, empresa in empresas_olinda_pe.iterrows():\n",
    "    folium.Marker(\n",
    "        location=[empresa['latitude'], empresa['longitude']],\n",
    "    ).add_to(olinda)\n",
    "\n",
    "# olinda.save('mapas_htmls/olinda_all_companies.html')\n",
    "olinda"
   ]
  },
  {
   "cell_type": "markdown",
   "metadata": {},
   "source": [
    "Colorindo de acordo com o bairro:"
   ]
  },
  {
   "cell_type": "code",
   "execution_count": null,
   "metadata": {},
   "outputs": [],
   "source": [
    "empresas_olinda_pe.neighborhood.value_counts()"
   ]
  },
  {
   "cell_type": "code",
   "execution_count": null,
   "metadata": {},
   "outputs": [],
   "source": [
    "colors = {\n",
    " 'AMPARO': 'pink',\n",
    " 'GUADALUPE': 'blue',\n",
    " 'CASA CAIADA': 'green',\n",
    " 'PEIXINHOS': 'orange',\n",
    " 'RIO DOCE': 'red',\n",
    " 'BAIRRO NOVO': 'purple',\n",
    "}\n",
    "\n",
    "olinda = folium.Map(\n",
    "    location=[-7.9981267, -34.9082027],\n",
    "    zoom_start=13\n",
    ")\n",
    "\n",
    "for _, empresa in empresas_olinda_pe.iterrows():\n",
    "    if empresa['neighborhood'] in colors.keys():\n",
    "        folium.Marker(\n",
    "            location=[empresa['latitude'], empresa['longitude']],\n",
    "            icon=folium.Icon(color=colors[empresa['neighborhood']])\n",
    "        ).add_to(olinda)\n",
    "\n",
    "# olinda.save('mapas_htmls/olinda_some_colored.html')\n",
    "olinda"
   ]
  }
 ],
 "metadata": {
  "kernelspec": {
   "display_name": "Python 3",
   "language": "python",
   "name": "python3"
  },
  "language_info": {
   "codemirror_mode": {
    "name": "ipython",
    "version": 3
   },
   "file_extension": ".py",
   "mimetype": "text/x-python",
   "name": "python",
   "nbconvert_exporter": "python",
   "pygments_lexer": "ipython3",
   "version": "3.6.3"
  }
 },
 "nbformat": 4,
 "nbformat_minor": 2
}
